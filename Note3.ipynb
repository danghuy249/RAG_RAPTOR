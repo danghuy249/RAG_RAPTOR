{
 "cells": [
  {
   "cell_type": "markdown",
   "metadata": {},
   "source": [
    "# 1. COnfig"
   ]
  },
  {
   "cell_type": "markdown",
   "metadata": {},
   "source": [
    "Dựa trên code được cung cấp, có thể điều chỉnh số layer và số lượng nodes của một layer tại các vị trí sau:\n",
    "\n",
    "1. Số layer được cấu hình trong `TreeBuilderConfig`:\n",
    "\n",
    "```48:52:raptor/tree_builder.py\n",
    "        if num_layers is None:\n",
    "            num_layers = 5\n",
    "        if not isinstance(num_layers, int) or num_layers < 1:\n",
    "            raise ValueError(\"num_layers must be an integer and at least 1\")\n",
    "        self.num_layers = num_layers\n",
    "```\n",
    "\n",
    "\n",
    "Mặc định là 5 layers, bạn có thể thay đổi khi khởi tạo config:\n",
    "```python\n",
    "config = TreeBuilderConfig(num_layers=3)  # Thay đổi thành 3 layers\n",
    "```\n",
    "\n",
    "2. Số lượng nodes trong một layer được điều khiển bởi 2 tham số chính:\n",
    "\n",
    "a. `top_k` trong `TreeBuilderConfig`:\n",
    "\n",
    "```60:63:raptor/tree_builder.py\n",
    "        if top_k is None:\n",
    "            top_k = 5\n",
    "        if not isinstance(top_k, int) or top_k < 1:\n",
    "            raise ValueError(\"top_k must be an integer and at least 1\")\n",
    "```\n",
    "\n",
    "\n",
    "b. `reduction_dimension` trong `ClusterTreeConfig`:\n",
    "\n",
    "```20:22:raptor/cluster_tree_builder.py\n",
    "        reduction_dimension=10,\n",
    "        clustering_algorithm=RAPTOR_Clustering,  # Default to RAPTOR clustering\n",
    "        clustering_params={},  # Pass additional params as a dict\n",
    "```\n",
    "\n",
    "\n",
    "Ví dụ cách cấu hình:\n",
    "```python\n",
    "config = ClusterTreeConfig(\n",
    "    num_layers=3,           # Số layers\n",
    "    top_k=3,               # Số nodes được chọn khi dùng mode \"top_k\"\n",
    "    reduction_dimension=5   # Số nodes tối đa trong mỗi cluster\n",
    ")\n",
    "```\n",
    "\n",
    "Lưu ý quan trọng về số nodes trong layer:\n",
    "1. Khi sử dụng ClusterTreeBuilder, số nodes trong mỗi layer sẽ giảm dần khi đi lên trên (từ leaf nodes lên root)\n",
    "2. Việc dừng tạo layer được kiểm soát bởi điều kiện:\n",
    "\n",
    "```95:100:raptor/cluster_tree_builder.py\n",
    "            if len(node_list_current_layer) <= self.reduction_dimension + 1:\n",
    "                self.num_layers = layer\n",
    "                logging.info(\n",
    "                    f\"Stopping Layer construction: Cannot Create More Layers. Total Layers in tree: {layer}\"\n",
    "                )\n",
    "                break\n",
    "```\n",
    "\n",
    "\n",
    "Nếu số nodes trong layer hiện tại nhỏ hơn hoặc bằng `reduction_dimension + 1`, quá trình tạo layer sẽ dừng lại."
   ]
  },
  {
   "cell_type": "code",
   "execution_count": null,
   "metadata": {},
   "outputs": [],
   "source": []
  }
 ],
 "metadata": {
  "language_info": {
   "name": "python"
  }
 },
 "nbformat": 4,
 "nbformat_minor": 2
}
